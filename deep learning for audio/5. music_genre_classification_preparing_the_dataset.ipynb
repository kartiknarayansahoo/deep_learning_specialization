{
  "nbformat": 4,
  "nbformat_minor": 0,
  "metadata": {
    "colab": {
      "provenance": [],
      "collapsed_sections": [],
      "authorship_tag": "ABX9TyN++PO8IQwePUYbcFMsakzr",
      "include_colab_link": true
    },
    "kernelspec": {
      "name": "python3",
      "display_name": "Python 3"
    },
    "language_info": {
      "name": "python"
    }
  },
  "cells": [
    {
      "cell_type": "markdown",
      "metadata": {
        "id": "view-in-github",
        "colab_type": "text"
      },
      "source": [
        "<a href=\"https://colab.research.google.com/github/kartiknarayansahoo/deep_learning_specialization/blob/main/deep%20learning%20for%20audio/5.%20music_genre_classification_preparing_the_dataset.ipynb\" target=\"_parent\"><img src=\"https://colab.research.google.com/assets/colab-badge.svg\" alt=\"Open In Colab\"/></a>"
      ]
    },
    {
      "cell_type": "code",
      "execution_count": 5,
      "metadata": {
        "id": "_SIii_9czvPy"
      },
      "outputs": [],
      "source": [
        "import os\n",
        "import librosa\n",
        "import math\n",
        "import json\n",
        "\n",
        "DATASET_PATH = \"genres_original\"\n",
        "JSON_PATH = \"data.json\"\n",
        "SAMPLE_RATE = 22050\n",
        "DURATION = 30 # given in seconds\n",
        "SAMPLES_PER_TRACK = SAMPLE_RATE*DURATION"
      ]
    },
    {
      "cell_type": "code",
      "source": [
        "\n",
        "def save_mfcc(dataset_path, json_path, n_mfcc=13, n_fft=2048, hop_length=512, num_segments=5):\n",
        "  # dictionary to store data\n",
        "  data = {\n",
        "      \"mapping\":[],\n",
        "      \"mfcc\":[],\n",
        "      \"labels\":[]\n",
        "  }\n",
        "\n",
        "  num_samples_per_segment = int(SAMPLES_PER_TRACK/num_segments)\n",
        "  expected_num_mfcc_per_segment = math.ceil(num_samples_per_segment/hop_length)\n",
        "\n",
        "  #loop through all the genres\n",
        "  for i ,(dirpath, dirnames, filenames) in enumerate(os.walk(dataset_path)):\n",
        "\n",
        "    # ensure that we are not at root level\n",
        "    if dirpath is not dataset_path:\n",
        "\n",
        "      # save the genre names (semantic labels)\n",
        "      dirpath_components = dirpath.split(\"/\") # \"genre/blues\" => [\"genre\", \"blues\"]\n",
        "      semantic_label = dirpath_components[-1]\n",
        "      data[\"mapping\"].append(semantic_label)\n",
        "      print(\"\\nProcessing: {} \".format(semantic_label))\n",
        "\n",
        "      # process files for a specific genre\n",
        "      for f in filenames:\n",
        "\n",
        "        #load audio files\n",
        "        file_path = os.path.join(dirpath, f)\n",
        "        signal, sr = librosa.load(file_path, sr=SAMPLE_RATE)\n",
        "\n",
        "        #process segments extracting mfcc and storing data\n",
        "        for s in range(num_segments):\n",
        "          start_sample = num_samples_per_segment*s\n",
        "          finish_sample = start_sample + num_samples_per_segment\n",
        "\n",
        "          mfcc = librosa.feature.mfcc(signal[start_sample:finish_sample], \n",
        "                                      sr=sr,\n",
        "                                      n_mfcc=n_mfcc,\n",
        "                                      n_fft=n_fft,\n",
        "                                      hop_length=hop_length)\n",
        "          mfcc = mfcc.T\n",
        "\n",
        "          # store the mfcc if that has the expected length\n",
        "          if len(mfcc) == expected_num_mfcc_per_segment:\n",
        "            data[\"mfcc\"].append(mfcc.tolist()) #.tolist() as mfcc is a numpy array which we will not to able to store \n",
        "            data[\"labels\"].append(i-1) # i-1 as the first iteration is for the dataset_path\n",
        "            print(\"{} segment:{} \".format(file_path, s))\n",
        "  \n",
        "  with open(json_path, \"w\") as fp:\n",
        "    json.dump(data, fp, indent=4)\n"
      ],
      "metadata": {
        "id": "wGCQvO9cC8ls"
      },
      "execution_count": 6,
      "outputs": []
    },
    {
      "cell_type": "code",
      "source": [
        "if __name__ == \"__main__\":\n",
        "  save_mfcc(DATASET_PATH, JSON_PATH, num_segments=10)"
      ],
      "metadata": {
        "id": "1QuqbJjGR6re"
      },
      "execution_count": null,
      "outputs": []
    }
  ]
}