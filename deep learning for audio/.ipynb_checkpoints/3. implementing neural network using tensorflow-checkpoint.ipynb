{
 "cells": [
  {
   "cell_type": "code",
   "execution_count": 1,
   "id": "d12288e7",
   "metadata": {},
   "outputs": [],
   "source": [
    "#build model\n",
    "#compile model\n",
    "#train model\n",
    "#evaluate model\n",
    "#make predictions\n",
    "\n",
    "import numpy as np\n",
    "from random import random\n",
    "from sklearn.model_selection import train_test_split"
   ]
  },
  {
   "cell_type": "code",
   "execution_count": 10,
   "id": "d2cc02c6",
   "metadata": {},
   "outputs": [],
   "source": [
    "def generate_dataset(num_samples, test_size):\n",
    "    x = np.array([[random()/2 for _ in range(2)] for _ in range(num_samples)])\n",
    "    y = np.array([[i[0] + i[1]] for i in x])\n",
    "    x_train, x_test, y_train, y_test = train_test_split(x,y, test_size = test_size)\n",
    "    return x_train, x_test, y_train, y_test"
   ]
  },
  {
   "cell_type": "code",
   "execution_count": 11,
   "id": "617594cf",
   "metadata": {},
   "outputs": [],
   "source": [
    "x_train, x_test, y_train, y_test = generate_dataset(10, 0.3)"
   ]
  },
  {
   "cell_type": "code",
   "execution_count": 12,
   "id": "168d05a4",
   "metadata": {},
   "outputs": [
    {
     "name": "stdout",
     "output_type": "stream",
     "text": [
      "x_test: [[0.43153566 0.47678603]\n",
      " [0.32574118 0.32941543]\n",
      " [0.29853332 0.38761274]]\n",
      "y_test: [[0.9083217 ]\n",
      " [0.65515661]\n",
      " [0.68614606]]\n"
     ]
    }
   ],
   "source": [
    "print(\"x_test: {}\".format(x_test))\n",
    "print(\"y_test: {}\".format(y_test))"
   ]
  },
  {
   "cell_type": "code",
   "execution_count": null,
   "id": "495c423e",
   "metadata": {},
   "outputs": [],
   "source": [
    "import tensorflow as tf\n",
    "\n",
    "# build model 2->5->1\n",
    "model = tf.keras.Sequential([\n",
    "    tf.keras.layers.Dense(5, input_dim=2, activation=\"sigmoid\"),\n",
    "    tf.keras.layers.Dense(1, activation=\"sigmoid\"),\n",
    "])\n",
    "\n",
    "# compile\n",
    "model.compile()\n"
   ]
  }
 ],
 "metadata": {
  "kernelspec": {
   "display_name": "Python 3 (ipykernel)",
   "language": "python",
   "name": "python3"
  },
  "language_info": {
   "codemirror_mode": {
    "name": "ipython",
    "version": 3
   },
   "file_extension": ".py",
   "mimetype": "text/x-python",
   "name": "python",
   "nbconvert_exporter": "python",
   "pygments_lexer": "ipython3",
   "version": "3.9.12"
  }
 },
 "nbformat": 4,
 "nbformat_minor": 5
}
