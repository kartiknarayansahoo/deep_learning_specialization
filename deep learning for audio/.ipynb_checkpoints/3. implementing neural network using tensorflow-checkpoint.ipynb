{
  "cells": [
    {
      "cell_type": "code",
      "execution_count": 1,
      "id": "d12288e7",
      "metadata": {
        "id": "d12288e7"
      },
      "outputs": [],
      "source": [
        "#build model\n",
        "#compile model\n",
        "#train model\n",
        "#evaluate model\n",
        "#make predictions\n",
        "\n",
        "import numpy as np\n",
        "from random import random\n",
        "from sklearn.model_selection import train_test_split"
      ]
    },
    {
      "cell_type": "code",
      "execution_count": 2,
      "id": "d2cc02c6",
      "metadata": {
        "id": "d2cc02c6"
      },
      "outputs": [],
      "source": [
        "def generate_dataset(num_samples, test_size):\n",
        "    x = np.array([[random()/2 for _ in range(2)] for _ in range(num_samples)])\n",
        "    y = np.array([[i[0] + i[1]] for i in x])\n",
        "    x_train, x_test, y_train, y_test = train_test_split(x,y, test_size = test_size)\n",
        "    return x_train, x_test, y_train, y_test"
      ]
    },
    {
      "cell_type": "code",
      "execution_count": 3,
      "id": "617594cf",
      "metadata": {
        "id": "617594cf"
      },
      "outputs": [],
      "source": [
        "x_train, x_test, y_train, y_test = generate_dataset(10, 0.3)"
      ]
    },
    {
      "cell_type": "code",
      "execution_count": 4,
      "id": "168d05a4",
      "metadata": {
        "id": "168d05a4",
        "outputId": "3e8a9c5a-e404-4c68-c50e-641d3633319e",
        "colab": {
          "base_uri": "https://localhost:8080/"
        }
      },
      "outputs": [
        {
          "output_type": "stream",
          "name": "stdout",
          "text": [
            "x_test: [[0.45322816 0.4942839 ]\n",
            " [0.39211332 0.46067372]\n",
            " [0.46204158 0.17575327]]\n",
            "y_test: [[0.94751206]\n",
            " [0.85278704]\n",
            " [0.63779486]]\n"
          ]
        }
      ],
      "source": [
        "print(\"x_test: {}\".format(x_test))\n",
        "print(\"y_test: {}\".format(y_test))"
      ]
    },
    {
      "cell_type": "code",
      "execution_count": 5,
      "id": "495c423e",
      "metadata": {
        "id": "495c423e"
      },
      "outputs": [],
      "source": [
        "import tensorflow as tf\n",
        "\n",
        "# build model 2->5->1\n",
        "model = tf.keras.Sequential([\n",
        "    tf.keras.layers.Dense(5, input_dim=2, activation=\"sigmoid\"),\n",
        "    tf.keras.layers.Dense(1, activation=\"sigmoid\"),\n",
        "])\n",
        "\n",
        "# compile\n",
        "model.compile()\n",
        "\n",
        "#hello\n"
      ]
    }
  ],
  "metadata": {
    "kernelspec": {
      "display_name": "Python 3 (ipykernel)",
      "language": "python",
      "name": "python3"
    },
    "language_info": {
      "codemirror_mode": {
        "name": "ipython",
        "version": 3
      },
      "file_extension": ".py",
      "mimetype": "text/x-python",
      "name": "python",
      "nbconvert_exporter": "python",
      "pygments_lexer": "ipython3",
      "version": "3.9.12"
    },
    "colab": {
      "provenance": []
    }
  },
  "nbformat": 4,
  "nbformat_minor": 5
}