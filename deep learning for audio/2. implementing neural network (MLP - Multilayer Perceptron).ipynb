{
 "cells": [
  {
   "cell_type": "code",
   "execution_count": 1,
   "id": "a68b85dd",
   "metadata": {},
   "outputs": [],
   "source": [
    "import numpy as np\n",
    "\n",
    "#save activations and derivatives\n",
    "#implement backpropagation\n",
    "#implement gradient descent\n",
    "#implement train\n",
    "#train our network with some dummy dataset\n",
    "#make predictions\n",
    "\n",
    "class MLP:\n",
    "    \n",
    "    def __init__(self, num_inputs=3, num_hidden =[3,5], num_outputs = 2):\n",
    "        self.num_inputs = num_inputs\n",
    "        self.num_hidden = num_hidden # so our hidden layer by default has two layers with 3 and 5 neurons\n",
    "        self.num_outputs = num_outputs\n",
    "        \n",
    "        layers = [self.num_inputs] + self.num_hidden + [self.num_outputs]\n",
    "        \n",
    "        # initializing random weights\n",
    "        self.weights = []\n",
    "        for i in range(len(layers)-1):\n",
    "            w = np.random.rand(layers[i],layers[i+1])\n",
    "            self.weights.append(w)\n",
    "            \n",
    "        # saving the activations\n",
    "        activations = []\n",
    "        for i in range(len(layers)):\n",
    "            a = np.zeros(layers[i])\n",
    "            activations.append(a)\n",
    "        self.activations = activations\n",
    "        \n",
    "        # saving the derivatives\n",
    "        derivatives = []\n",
    "        for i in range(len(layers)):\n",
    "            d = np.zeros((layers[i],layers[i+1]asdf)\n",
    "            derivatives.append(d)\n",
    "        self.derivatives = derivatives\n",
    "            \n",
    "    def forward_propagation(self, inputs):\n",
    "        activations = inputs\n",
    "        self.activations[0] = inputs\n",
    "        \n",
    "        for i,w in enumerate(self.weights):\n",
    "            \n",
    "            # calculate net inputs\n",
    "            h = np.dot(activations,w)\n",
    "            \n",
    "            # calculate activations\n",
    "            activations = self._sigmoid(h)\n",
    "            self.activations[i+1] = activations\n",
    "        \n",
    "        return activations\n",
    "    \n",
    "    def backward_propagation(self, error):\n",
    "         \n",
    "                         \n",
    "                         \n",
    "    \n",
    "    def _sigmoid(self, x):\n",
    "        return 1/(1+np.exp(-x))\n",
    "            "
   ]
  },
  {
   "cell_type": "code",
   "execution_count": 2,
   "id": "bfa79bb2",
   "metadata": {},
   "outputs": [
    {
     "name": "stdout",
     "output_type": "stream",
     "text": [
      "The network input is: [0.6073252  0.18358873 0.93692197]\n",
      "The network output is: [0.8856574  0.87613401]\n"
     ]
    }
   ],
   "source": [
    "# create class instance\n",
    "mlp = MLP()\n",
    "\n",
    "# create some inputs\n",
    "inputs = np.random.rand(mlp.num_inputs)\n",
    "\n",
    "# perform forward propagation\n",
    "outputs = mlp.forward_propagation(inputs)\n",
    "\n",
    "# print the results\n",
    "print(\"The network input is: {}\".format(inputs))\n",
    "print(\"The network output is: {}\".format(outputs))"
   ]
  },
  {
   "cell_type": "code",
   "execution_count": null,
   "id": "d3c0e154",
   "metadata": {},
   "outputs": [],
   "source": []
  }
 ],
 "metadata": {
  "kernelspec": {
   "display_name": "Python 3 (ipykernel)",
   "language": "python",
   "name": "python3"
  },
  "language_info": {
   "codemirror_mode": {
    "name": "ipython",
    "version": 3
   },
   "file_extension": ".py",
   "mimetype": "text/x-python",
   "name": "python",
   "nbconvert_exporter": "python",
   "pygments_lexer": "ipython3",
   "version": "3.9.12"
  }
 },
 "nbformat": 4,
 "nbformat_minor": 5
}
