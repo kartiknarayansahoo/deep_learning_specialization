{
 "cells": [
  {
   "cell_type": "code",
   "execution_count": 1,
   "id": "df2e81b7",
   "metadata": {},
   "outputs": [],
   "source": [
    "import numpy as np"
   ]
  },
  {
   "cell_type": "code",
   "execution_count": 5,
   "id": "f97cd74b",
   "metadata": {},
   "outputs": [
    {
     "name": "stdout",
     "output_type": "stream",
     "text": [
      "[-1.47957457  1.03271714  1.58947677  0.43006437 -0.38364579]\n",
      "(5,)\n",
      "6.114221470605898\n"
     ]
    }
   ],
   "source": [
    "a = np.random.randn(5,)\n",
    "# the above gives a rank 1 array\n",
    "print(a)\n",
    "print(a.shape)\n",
    "print(np.dot(a,a.T))"
   ]
  },
  {
   "cell_type": "code",
   "execution_count": 6,
   "id": "ffd42cbb",
   "metadata": {},
   "outputs": [
    {
     "name": "stdout",
     "output_type": "stream",
     "text": [
      "[[ 0.07085467]\n",
      " [ 0.66915249]\n",
      " [ 1.75722913]\n",
      " [ 0.19435708]\n",
      " [-0.03769707]]\n",
      "(5, 1)\n",
      "[[ 5.02038482e-03  4.74125812e-02  1.24507897e-01  1.37711077e-02\n",
      "  -2.67101392e-03]\n",
      " [ 4.74125812e-02  4.47765049e-01  1.17585424e+00  1.30054525e-01\n",
      "  -2.52250911e-02]\n",
      " [ 1.24507897e-01  1.17585424e+00  3.08785422e+00  3.41529927e-01\n",
      "  -6.62423974e-02]\n",
      " [ 1.37711077e-02  1.30054525e-01  3.41529927e-01  3.77746756e-02\n",
      "  -7.32669342e-03]\n",
      " [-2.67101392e-03 -2.52250911e-02 -6.62423974e-02 -7.32669342e-03\n",
      "   1.42106942e-03]]\n"
     ]
    }
   ],
   "source": [
    "b = np.random.randn(5,1)\n",
    "# the above gives a 5 by 1 matrix\n",
    "print(b)\n",
    "print(b.shape)\n",
    "print(np.dot(b,b.T))"
   ]
  },
  {
   "cell_type": "code",
   "execution_count": 7,
   "id": "88f015ef",
   "metadata": {},
   "outputs": [
    {
     "name": "stdout",
     "output_type": "stream",
     "text": [
      "[[0.27950658 0.0176215  0.59576742]\n",
      " [0.18804011 0.540526   0.51504886]\n",
      " [0.13019787 0.44967382 0.76774768]\n",
      " [0.52413924 0.10150986 0.12392788]]\n"
     ]
    }
   ],
   "source": [
    "a = np.random.rand(4,3)\n",
    "b = np.random.rand(1,3)\n",
    "c = a*b\n",
    "print(c)"
   ]
  },
  {
   "cell_type": "code",
   "execution_count": null,
   "id": "6ce9a615",
   "metadata": {},
   "outputs": [],
   "source": []
  }
 ],
 "metadata": {
  "kernelspec": {
   "display_name": "Python 3 (ipykernel)",
   "language": "python",
   "name": "python3"
  },
  "language_info": {
   "codemirror_mode": {
    "name": "ipython",
    "version": 3
   },
   "file_extension": ".py",
   "mimetype": "text/x-python",
   "name": "python",
   "nbconvert_exporter": "python",
   "pygments_lexer": "ipython3",
   "version": "3.9.7"
  }
 },
 "nbformat": 4,
 "nbformat_minor": 5
}
