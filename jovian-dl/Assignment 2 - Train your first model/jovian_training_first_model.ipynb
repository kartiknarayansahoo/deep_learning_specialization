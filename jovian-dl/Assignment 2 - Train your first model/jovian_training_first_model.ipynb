{
  "nbformat": 4,
  "nbformat_minor": 0,
  "metadata": {
    "colab": {
      "provenance": [],
      "collapsed_sections": [],
      "authorship_tag": "ABX9TyPGchs5sq9kzEHxxbExTKqj",
      "include_colab_link": true
    },
    "kernelspec": {
      "name": "python3",
      "display_name": "Python 3"
    },
    "language_info": {
      "name": "python"
    }
  },
  "cells": [
    {
      "cell_type": "markdown",
      "metadata": {
        "id": "view-in-github",
        "colab_type": "text"
      },
      "source": [
        "<a href=\"https://colab.research.google.com/github/kartiknarayansahoo/deep_learning_specialization/blob/main/jovian-dl/Assignment%202%20-%20Train%20your%20first%20model/jovian_training_first_model.ipynb\" target=\"_parent\"><img src=\"https://colab.research.google.com/assets/colab-badge.svg\" alt=\"Open In Colab\"/></a>"
      ]
    },
    {
      "cell_type": "code",
      "execution_count": 13,
      "metadata": {
        "id": "JVY3KbqkxSkR"
      },
      "outputs": [],
      "source": [
        "import torch\n",
        "import torchvision\n",
        "import torch.nn as nn\n",
        "import pandas as pd\n",
        "import matplotlib.pyplot as plt\n",
        "import seaborn as sns\n",
        "import torch.nn.functional as F\n",
        "from torchvision.datasets.utils import download_url\n",
        "from torch.utils.data import DataLoader, TensorDataset, random_split"
      ]
    },
    {
      "cell_type": "code",
      "source": [
        "DATASET_URL = \"https://gist.github.com/BirajCoder/5f068dfe759c1ea6bdfce9535acdb72d/raw/c84d84e3c80f93be67f6c069cbdc0195ec36acbd/insurance.csv\"\n",
        "DATA_FILENAME = \"insurance.csv\"\n",
        "download_url(DATASET_URL, '.')"
      ],
      "metadata": {
        "colab": {
          "base_uri": "https://localhost:8080/"
        },
        "id": "UEhwndHBza2H",
        "outputId": "26aa7218-d24a-4767-e6e8-fad301e6df1c"
      },
      "execution_count": 2,
      "outputs": [
        {
          "output_type": "stream",
          "name": "stdout",
          "text": [
            "Using downloaded and verified file: ./insurance.csv\n"
          ]
        }
      ]
    },
    {
      "cell_type": "code",
      "source": [
        "dataframe_raw = pd.read_csv(DATA_FILENAME)\n",
        "dataframe_raw.head()  "
      ],
      "metadata": {
        "colab": {
          "base_uri": "https://localhost:8080/",
          "height": 215
        },
        "id": "Jloes_pWzheg",
        "outputId": "db0828c6-1fef-4d79-eb43-f61c613db5af"
      },
      "execution_count": 3,
      "outputs": [
        {
          "output_type": "execute_result",
          "data": {
            "text/plain": [
              "   age     sex     bmi  children smoker     region      charges\n",
              "0   19  female  27.900         0    yes  southwest  16884.92400\n",
              "1   18    male  33.770         1     no  southeast   1725.55230\n",
              "2   28    male  33.000         3     no  southeast   4449.46200\n",
              "3   33    male  22.705         0     no  northwest  21984.47061\n",
              "4   32    male  28.880         0     no  northwest   3866.85520"
            ],
            "text/html": [
              "\n",
              "  <div id=\"df-0a530641-77cc-42d6-9e32-5c862fdf567a\">\n",
              "    <div class=\"colab-df-container\">\n",
              "      <div>\n",
              "<style scoped>\n",
              "    .dataframe tbody tr th:only-of-type {\n",
              "        vertical-align: middle;\n",
              "    }\n",
              "\n",
              "    .dataframe tbody tr th {\n",
              "        vertical-align: top;\n",
              "    }\n",
              "\n",
              "    .dataframe thead th {\n",
              "        text-align: right;\n",
              "    }\n",
              "</style>\n",
              "<table border=\"1\" class=\"dataframe\">\n",
              "  <thead>\n",
              "    <tr style=\"text-align: right;\">\n",
              "      <th></th>\n",
              "      <th>age</th>\n",
              "      <th>sex</th>\n",
              "      <th>bmi</th>\n",
              "      <th>children</th>\n",
              "      <th>smoker</th>\n",
              "      <th>region</th>\n",
              "      <th>charges</th>\n",
              "    </tr>\n",
              "  </thead>\n",
              "  <tbody>\n",
              "    <tr>\n",
              "      <th>0</th>\n",
              "      <td>19</td>\n",
              "      <td>female</td>\n",
              "      <td>27.900</td>\n",
              "      <td>0</td>\n",
              "      <td>yes</td>\n",
              "      <td>southwest</td>\n",
              "      <td>16884.92400</td>\n",
              "    </tr>\n",
              "    <tr>\n",
              "      <th>1</th>\n",
              "      <td>18</td>\n",
              "      <td>male</td>\n",
              "      <td>33.770</td>\n",
              "      <td>1</td>\n",
              "      <td>no</td>\n",
              "      <td>southeast</td>\n",
              "      <td>1725.55230</td>\n",
              "    </tr>\n",
              "    <tr>\n",
              "      <th>2</th>\n",
              "      <td>28</td>\n",
              "      <td>male</td>\n",
              "      <td>33.000</td>\n",
              "      <td>3</td>\n",
              "      <td>no</td>\n",
              "      <td>southeast</td>\n",
              "      <td>4449.46200</td>\n",
              "    </tr>\n",
              "    <tr>\n",
              "      <th>3</th>\n",
              "      <td>33</td>\n",
              "      <td>male</td>\n",
              "      <td>22.705</td>\n",
              "      <td>0</td>\n",
              "      <td>no</td>\n",
              "      <td>northwest</td>\n",
              "      <td>21984.47061</td>\n",
              "    </tr>\n",
              "    <tr>\n",
              "      <th>4</th>\n",
              "      <td>32</td>\n",
              "      <td>male</td>\n",
              "      <td>28.880</td>\n",
              "      <td>0</td>\n",
              "      <td>no</td>\n",
              "      <td>northwest</td>\n",
              "      <td>3866.85520</td>\n",
              "    </tr>\n",
              "  </tbody>\n",
              "</table>\n",
              "</div>\n",
              "      <button class=\"colab-df-convert\" onclick=\"convertToInteractive('df-0a530641-77cc-42d6-9e32-5c862fdf567a')\"\n",
              "              title=\"Convert this dataframe to an interactive table.\"\n",
              "              style=\"display:none;\">\n",
              "        \n",
              "  <svg xmlns=\"http://www.w3.org/2000/svg\" height=\"24px\"viewBox=\"0 0 24 24\"\n",
              "       width=\"24px\">\n",
              "    <path d=\"M0 0h24v24H0V0z\" fill=\"none\"/>\n",
              "    <path d=\"M18.56 5.44l.94 2.06.94-2.06 2.06-.94-2.06-.94-.94-2.06-.94 2.06-2.06.94zm-11 1L8.5 8.5l.94-2.06 2.06-.94-2.06-.94L8.5 2.5l-.94 2.06-2.06.94zm10 10l.94 2.06.94-2.06 2.06-.94-2.06-.94-.94-2.06-.94 2.06-2.06.94z\"/><path d=\"M17.41 7.96l-1.37-1.37c-.4-.4-.92-.59-1.43-.59-.52 0-1.04.2-1.43.59L10.3 9.45l-7.72 7.72c-.78.78-.78 2.05 0 2.83L4 21.41c.39.39.9.59 1.41.59.51 0 1.02-.2 1.41-.59l7.78-7.78 2.81-2.81c.8-.78.8-2.07 0-2.86zM5.41 20L4 18.59l7.72-7.72 1.47 1.35L5.41 20z\"/>\n",
              "  </svg>\n",
              "      </button>\n",
              "      \n",
              "  <style>\n",
              "    .colab-df-container {\n",
              "      display:flex;\n",
              "      flex-wrap:wrap;\n",
              "      gap: 12px;\n",
              "    }\n",
              "\n",
              "    .colab-df-convert {\n",
              "      background-color: #E8F0FE;\n",
              "      border: none;\n",
              "      border-radius: 50%;\n",
              "      cursor: pointer;\n",
              "      display: none;\n",
              "      fill: #1967D2;\n",
              "      height: 32px;\n",
              "      padding: 0 0 0 0;\n",
              "      width: 32px;\n",
              "    }\n",
              "\n",
              "    .colab-df-convert:hover {\n",
              "      background-color: #E2EBFA;\n",
              "      box-shadow: 0px 1px 2px rgba(60, 64, 67, 0.3), 0px 1px 3px 1px rgba(60, 64, 67, 0.15);\n",
              "      fill: #174EA6;\n",
              "    }\n",
              "\n",
              "    [theme=dark] .colab-df-convert {\n",
              "      background-color: #3B4455;\n",
              "      fill: #D2E3FC;\n",
              "    }\n",
              "\n",
              "    [theme=dark] .colab-df-convert:hover {\n",
              "      background-color: #434B5C;\n",
              "      box-shadow: 0px 1px 3px 1px rgba(0, 0, 0, 0.15);\n",
              "      filter: drop-shadow(0px 1px 2px rgba(0, 0, 0, 0.3));\n",
              "      fill: #FFFFFF;\n",
              "    }\n",
              "  </style>\n",
              "\n",
              "      <script>\n",
              "        const buttonEl =\n",
              "          document.querySelector('#df-0a530641-77cc-42d6-9e32-5c862fdf567a button.colab-df-convert');\n",
              "        buttonEl.style.display =\n",
              "          google.colab.kernel.accessAllowed ? 'block' : 'none';\n",
              "\n",
              "        async function convertToInteractive(key) {\n",
              "          const element = document.querySelector('#df-0a530641-77cc-42d6-9e32-5c862fdf567a');\n",
              "          const dataTable =\n",
              "            await google.colab.kernel.invokeFunction('convertToInteractive',\n",
              "                                                     [key], {});\n",
              "          if (!dataTable) return;\n",
              "\n",
              "          const docLinkHtml = 'Like what you see? Visit the ' +\n",
              "            '<a target=\"_blank\" href=https://colab.research.google.com/notebooks/data_table.ipynb>data table notebook</a>'\n",
              "            + ' to learn more about interactive tables.';\n",
              "          element.innerHTML = '';\n",
              "          dataTable['output_type'] = 'display_data';\n",
              "          await google.colab.output.renderOutput(dataTable, element);\n",
              "          const docLink = document.createElement('div');\n",
              "          docLink.innerHTML = docLinkHtml;\n",
              "          element.appendChild(docLink);\n",
              "        }\n",
              "      </script>\n",
              "    </div>\n",
              "  </div>\n",
              "  "
            ]
          },
          "metadata": {},
          "execution_count": 3
        }
      ]
    },
    {
      "cell_type": "code",
      "source": [
        "def customize_dataset(dataframe_raw, rand_str):\n",
        "    dataframe = dataframe_raw.copy(deep=True)\n",
        "    # drop some rows\n",
        "    dataframe = dataframe.sample(int(0.95*len(dataframe)), random_state=int(ord(rand_str[0])))\n",
        "    # scale input\n",
        "    dataframe.bmi = dataframe.bmi * ord(rand_str[1])/100.\n",
        "    # scale target\n",
        "    dataframe.charges = dataframe.charges * ord(rand_str[2])/100.\n",
        "    # drop column\n",
        "    if ord(rand_str[3]) % 2 == 1:\n",
        "        dataframe = dataframe.drop(['region'], axis=1)\n",
        "    return dataframe"
      ],
      "metadata": {
        "id": "zo608Qqcz5-a"
      },
      "execution_count": 6,
      "outputs": []
    },
    {
      "cell_type": "code",
      "source": [
        "dataframe = customize_dataset(dataframe_raw, 'Kartik')"
      ],
      "metadata": {
        "id": "bfLDIgq_00ge"
      },
      "execution_count": 7,
      "outputs": []
    },
    {
      "cell_type": "code",
      "source": [
        "num_rows = len(dataframe)\n",
        "print(num_rows)"
      ],
      "metadata": {
        "colab": {
          "base_uri": "https://localhost:8080/"
        },
        "id": "UfpV8b5D03O0",
        "outputId": "aa09d34e-ab3d-4453-8e41-3e3238406a03"
      },
      "execution_count": 8,
      "outputs": [
        {
          "output_type": "stream",
          "name": "stdout",
          "text": [
            "1271\n"
          ]
        }
      ]
    },
    {
      "cell_type": "code",
      "source": [
        "dataframe.info()"
      ],
      "metadata": {
        "colab": {
          "base_uri": "https://localhost:8080/"
        },
        "id": "dpSzaJ_s1mTA",
        "outputId": "817f1578-138b-4231-f3a3-80cad941576c"
      },
      "execution_count": 9,
      "outputs": [
        {
          "output_type": "stream",
          "name": "stdout",
          "text": [
            "<class 'pandas.core.frame.DataFrame'>\n",
            "Int64Index: 1271 entries, 1307 to 661\n",
            "Data columns (total 7 columns):\n",
            " #   Column    Non-Null Count  Dtype  \n",
            "---  ------    --------------  -----  \n",
            " 0   age       1271 non-null   int64  \n",
            " 1   sex       1271 non-null   object \n",
            " 2   bmi       1271 non-null   float64\n",
            " 3   children  1271 non-null   int64  \n",
            " 4   smoker    1271 non-null   object \n",
            " 5   region    1271 non-null   object \n",
            " 6   charges   1271 non-null   float64\n",
            "dtypes: float64(2), int64(2), object(3)\n",
            "memory usage: 79.4+ KB\n"
          ]
        }
      ]
    },
    {
      "cell_type": "code",
      "source": [
        "num_columns = len(dataframe.columns)\n",
        "print(num_columns)"
      ],
      "metadata": {
        "colab": {
          "base_uri": "https://localhost:8080/"
        },
        "id": "hgwnxaKM1unu",
        "outputId": "0347875a-fc0c-4dbb-f6ff-119e0bc81533"
      },
      "execution_count": 11,
      "outputs": [
        {
          "output_type": "stream",
          "name": "stdout",
          "text": [
            "7\n"
          ]
        }
      ]
    },
    {
      "cell_type": "code",
      "source": [
        "rows, columns = dataframe.shape\n",
        "print(rows, columns)"
      ],
      "metadata": {
        "colab": {
          "base_uri": "https://localhost:8080/"
        },
        "id": "flmbWQ1A15f5",
        "outputId": "51c9dd20-3b70-41c7-83d1-f976899087c6"
      },
      "execution_count": 12,
      "outputs": [
        {
          "output_type": "stream",
          "name": "stdout",
          "text": [
            "1271 7\n"
          ]
        }
      ]
    },
    {
      "cell_type": "code",
      "source": [
        "input_cols = list(dataframe.columns[:-1])\n",
        "print(input_cols)"
      ],
      "metadata": {
        "colab": {
          "base_uri": "https://localhost:8080/"
        },
        "id": "ZzgK7OJT2Gkd",
        "outputId": "39e9cc09-06ae-4e4c-ec07-139418c804ae"
      },
      "execution_count": 19,
      "outputs": [
        {
          "output_type": "stream",
          "name": "stdout",
          "text": [
            "['age', 'sex', 'bmi', 'children', 'smoker', 'region']\n"
          ]
        }
      ]
    },
    {
      "cell_type": "code",
      "source": [
        "categorical_cols = list(dataframe.select_dtypes(include=['object']).columns)\n",
        "print(categorical_cols)"
      ],
      "metadata": {
        "colab": {
          "base_uri": "https://localhost:8080/"
        },
        "id": "Q4AfhIR-5tN7",
        "outputId": "6f9a21e2-0acd-4a68-9fd4-16a5e0caf02e"
      },
      "execution_count": 26,
      "outputs": [
        {
          "output_type": "stream",
          "name": "stdout",
          "text": [
            "['sex', 'smoker', 'region']\n"
          ]
        }
      ]
    },
    {
      "cell_type": "code",
      "source": [
        "output_cols = list(dataframe.columns[-1].string)\n",
        "print(output_cols)"
      ],
      "metadata": {
        "colab": {
          "base_uri": "https://localhost:8080/",
          "height": 182
        },
        "id": "ijJkhbwV6iA2",
        "outputId": "458406f9-629d-47a3-924b-d4fa4afcf31c"
      },
      "execution_count": 51,
      "outputs": [
        {
          "output_type": "error",
          "ename": "AttributeError",
          "evalue": "ignored",
          "traceback": [
            "\u001b[0;31m---------------------------------------------------------------------------\u001b[0m",
            "\u001b[0;31mAttributeError\u001b[0m                            Traceback (most recent call last)",
            "\u001b[0;32m<ipython-input-51-593f7cf49394>\u001b[0m in \u001b[0;36m<module>\u001b[0;34m\u001b[0m\n\u001b[0;32m----> 1\u001b[0;31m \u001b[0moutput_cols\u001b[0m \u001b[0;34m=\u001b[0m \u001b[0mlist\u001b[0m\u001b[0;34m(\u001b[0m\u001b[0mdataframe\u001b[0m\u001b[0;34m.\u001b[0m\u001b[0mcolumns\u001b[0m\u001b[0;34m[\u001b[0m\u001b[0;34m-\u001b[0m\u001b[0;36m1\u001b[0m\u001b[0;34m]\u001b[0m\u001b[0;34m.\u001b[0m\u001b[0mstring\u001b[0m\u001b[0;34m)\u001b[0m\u001b[0;34m\u001b[0m\u001b[0;34m\u001b[0m\u001b[0m\n\u001b[0m\u001b[1;32m      2\u001b[0m \u001b[0mprint\u001b[0m\u001b[0;34m(\u001b[0m\u001b[0moutput_cols\u001b[0m\u001b[0;34m)\u001b[0m\u001b[0;34m\u001b[0m\u001b[0;34m\u001b[0m\u001b[0m\n",
            "\u001b[0;31mAttributeError\u001b[0m: 'str' object has no attribute 'string'"
          ]
        }
      ]
    },
    {
      "cell_type": "markdown",
      "source": [
        "# Preparing the dataset for training"
      ],
      "metadata": {
        "id": "h2tSrisc7jhX"
      }
    },
    {
      "cell_type": "code",
      "source": [
        "def dataframe_to_arrays(dataframe):\n",
        "  # make a copy of the original dataframe\n",
        "  dataframe1 = dataframe.copy(deep=True)\n",
        "  # convert non-numeric categorical columns to numbers\n",
        "  for col in categorical_cols:\n",
        "    dataframe1[col] = dataframe1[col].astype('category').cat.codes\n",
        "  # extract input and outputs as numpy arrays\n",
        "  inputs_array = dataframe1[input_cols].to_numpy()\n",
        "  targets_array = dataframe1[output_cols].to_numpy()\n",
        "  return inputs_array, targets_array"
      ],
      "metadata": {
        "id": "6aSKFdv76_wQ"
      },
      "execution_count": 27,
      "outputs": []
    },
    {
      "cell_type": "code",
      "source": [
        "inputs_array, targets_array = dataframe_to_arrays(dataframe)\n",
        "inputs_array, targets_array"
      ],
      "metadata": {
        "colab": {
          "base_uri": "https://localhost:8080/"
        },
        "id": "cybntCaO9CmJ",
        "outputId": "51e82e32-cde6-43f4-f98f-680dd3d0567d"
      },
      "execution_count": 28,
      "outputs": [
        {
          "output_type": "execute_result",
          "data": {
            "text/plain": [
              "(array([[32.     ,  1.     , 27.2764 ,  4.     ,  1.     ,  1.     ],\n",
              "        [59.     ,  0.     , 34.144  ,  0.     ,  0.     ,  2.     ],\n",
              "        [37.     ,  0.     , 33.08185,  1.     ,  0.     ,  1.     ],\n",
              "        ...,\n",
              "        [57.     ,  0.     , 19.497  ,  1.     ,  0.     ,  3.     ],\n",
              "        [23.     ,  1.     , 33.368  ,  0.     ,  0.     ,  3.     ],\n",
              "        [57.     ,  0.     , 23.2606 ,  1.     ,  0.     ,  2.     ]]),\n",
              " array([24478.625832 , 13958.76534  ,  6968.082363 , ..., 13716.85164  ,\n",
              "         2082.60102  , 25299.3783054]))"
            ]
          },
          "metadata": {},
          "execution_count": 28
        }
      ]
    },
    {
      "cell_type": "code",
      "source": [
        "# converting array dtype to float32 for faster computation on GPU\n",
        "inputs_array = inputs_array.astype('float32')\n",
        "targets_array = targets_array.astype('float32')"
      ],
      "metadata": {
        "id": "mKTJUKbE_ogw"
      },
      "execution_count": 34,
      "outputs": []
    },
    {
      "cell_type": "code",
      "source": [
        "inputs_array.dtype, targets_array.dtype"
      ],
      "metadata": {
        "colab": {
          "base_uri": "https://localhost:8080/"
        },
        "id": "W6JsXzo3_M9s",
        "outputId": "16444dc1-65e8-438d-b7ea-5fea54801c4d"
      },
      "execution_count": 35,
      "outputs": [
        {
          "output_type": "execute_result",
          "data": {
            "text/plain": [
              "(dtype('float32'), dtype('float32'))"
            ]
          },
          "metadata": {},
          "execution_count": 35
        }
      ]
    },
    {
      "cell_type": "code",
      "source": [
        "from numpy import dtype\n",
        "inputs = torch.from_numpy(inputs_array)\n",
        "targets = torch.from_numpy(targets_array)"
      ],
      "metadata": {
        "id": "nRWJGHtb92YJ"
      },
      "execution_count": 37,
      "outputs": []
    },
    {
      "cell_type": "code",
      "source": [
        "inputs.dtype, targets.dtype"
      ],
      "metadata": {
        "colab": {
          "base_uri": "https://localhost:8080/"
        },
        "id": "uUih1clE-WyE",
        "outputId": "48b68c91-555b-4892-a1cb-654aca68f385"
      },
      "execution_count": 38,
      "outputs": [
        {
          "output_type": "execute_result",
          "data": {
            "text/plain": [
              "(torch.float32, torch.float32)"
            ]
          },
          "metadata": {},
          "execution_count": 38
        }
      ]
    },
    {
      "cell_type": "code",
      "source": [
        "dataset = TensorDataset(inputs, targets)"
      ],
      "metadata": {
        "id": "_mAE8k_9-aCu"
      },
      "execution_count": 39,
      "outputs": []
    },
    {
      "cell_type": "code",
      "source": [
        "val_percent = 0.15\n",
        "val_size = int(num_rows*val_percent)\n",
        "train_size = num_rows-val_size\n",
        "train_ds, val_ds = random_split(dataset, lengths = [train_size, val_size])"
      ],
      "metadata": {
        "id": "fYCTydBHBDxc"
      },
      "execution_count": 43,
      "outputs": []
    },
    {
      "cell_type": "code",
      "source": [
        "batch_size = 256"
      ],
      "metadata": {
        "id": "2ydqtTdaCSwp"
      },
      "execution_count": 44,
      "outputs": []
    },
    {
      "cell_type": "code",
      "source": [
        "train_loader = DataLoader(train_ds, batch_size, shuffle=True)\n",
        "val_loader = DataLoader(val_ds, batch_size)"
      ],
      "metadata": {
        "id": "cEoMC5FuCn9Q"
      },
      "execution_count": 45,
      "outputs": []
    },
    {
      "cell_type": "code",
      "source": [
        "for xb, yb in train_loader:\n",
        "  print('inputs: ', xb)\n",
        "  print('outputs: ', yb)\n",
        "  break"
      ],
      "metadata": {
        "colab": {
          "base_uri": "https://localhost:8080/"
        },
        "id": "l764tLOzCyRv",
        "outputId": "eeeb636c-a48e-4651-c525-0a5ebb2ea807"
      },
      "execution_count": 48,
      "outputs": [
        {
          "output_type": "stream",
          "name": "stdout",
          "text": [
            "inputs:  tensor([[42.0000,  1.0000, 24.1142,  0.0000,  0.0000,  2.0000],\n",
            "        [28.0000,  0.0000, 25.1569,  1.0000,  0.0000,  1.0000],\n",
            "        [58.0000,  0.0000, 27.3685,  0.0000,  0.0000,  1.0000],\n",
            "        ...,\n",
            "        [51.0000,  0.0000, 19.9820,  0.0000,  0.0000,  3.0000],\n",
            "        [47.0000,  0.0000, 43.9604,  1.0000,  0.0000,  2.0000],\n",
            "        [26.0000,  0.0000, 16.6791,  2.0000,  1.0000,  0.0000]])\n",
            "outputs:  tensor([ 6802.2515,  4712.3516, 13935.7598, 16505.2969, 10906.3691, 55729.0547,\n",
            "        14171.2871,  9808.3584,  2254.7090, 23921.8672,  3621.5701,  9748.5352,\n",
            "         3615.6409, 10516.7920,  1860.1018, 24194.9902, 24712.1035,  8880.1836,\n",
            "         5869.3501,  2436.9250, 12458.8877,  3255.1987, 22970.2285, 11897.1494,\n",
            "        42368.2852,  2396.5818,  9068.1494, 50070.1484, 42064.5547,  9707.9648,\n",
            "         9407.6045, 14948.3691,  6234.6675,  3979.2261,  3507.8889,  5411.6401,\n",
            "         1832.5615,  2624.6221, 11063.3213, 21887.9355, 22166.4629,  1960.1573,\n",
            "         3109.2305,  4051.7915, 19472.4316, 12494.0518,  7490.9678,  5959.9072,\n",
            "         2528.0654, 32035.5195, 28880.0000, 17509.3789, 39049.6211, 13498.4834,\n",
            "         3249.7795, 27322.8164,  4486.1050,  2428.9705,  4955.6064, 13827.7598,\n",
            "        10424.8037,  9443.3965, 10973.5488,  3838.0034,  5054.0620,  7693.3940,\n",
            "         8811.7959,  5054.6641,  2100.4717,  1296.1925, 13057.5850, 10219.0293,\n",
            "         7361.9414, 11963.0986,  5151.4619,  9811.0879,  3491.2595,  8349.0576,\n",
            "         5015.6934,  9261.8252, 13547.8154,  9501.2812,  6103.6450, 10196.2910,\n",
            "        17732.9160, 13037.8818,  5135.3149, 13544.7480, 50827.4180, 14419.5215,\n",
            "         8204.4287,  5448.7466,  4259.5698,  5059.6201, 10588.3506,  8145.1436,\n",
            "        45287.0898, 14967.7480, 41182.0156,  9624.6406, 13958.7656,  2520.6890,\n",
            "         8037.0244,  5791.3096, 42980.1406, 13986.2412,  9729.5254, 11254.8789,\n",
            "         9733.6484, 12520.0518, 23279.4902,  8809.0684,  4863.4292, 34272.4805,\n",
            "        20699.9785,  5201.6401,  4155.4019, 41390.8906,  9215.6689,  4827.8169,\n",
            "         4420.1270,  7066.5771,  5160.9888,  1849.2949,  5832.8105, 18337.0449,\n",
            "         5180.4277,  3088.5381,  4596.7544, 27231.9355, 53453.7578,  9715.0830,\n",
            "        14588.8193, 10604.1582, 11882.1250, 53928.0469, 15310.5020, 21395.2207,\n",
            "         7963.4780,  7818.6665, 10182.5762, 24337.5254, 21608.9512,  2657.9316,\n",
            "         1947.1216,  4606.2363,  3196.2156, 44128.4609, 13500.5908,  8808.6133,\n",
            "        27140.2539,  4097.3550,  1841.9740,  6127.5435,  5433.2651, 45289.4805,\n",
            "         5732.0869, 21437.4180,  5410.8320,  2573.5217, 15452.7061, 20018.8320,\n",
            "        11625.4600,  7599.5171,  4925.2686,  3056.2822,  5327.6670,  7724.5957,\n",
            "        24819.3301,  4475.3643, 27944.9238, 28593.2148,  3472.5107,  2433.7876,\n",
            "        15961.2930, 48226.2109, 13713.3867,  1856.4568,  5211.4106, 38654.6055,\n",
            "         4255.1924, 14800.4775, 24618.7363,  9394.2725, 34524.4922,  7794.6001,\n",
            "        12646.7305, 13124.1416, 13982.6777, 10886.5039,  5603.1685, 45453.7422,\n",
            "         1950.5706, 23690.8965, 11113.7578,  2801.5522, 11707.1846,  1307.3481,\n",
            "        53122.9844,  8162.5073,  9721.3867, 12213.5537,  3193.4351,  3090.3445,\n",
            "         4056.8271,  7912.6372, 14416.6758,  1869.1019,  2846.6238,  6071.2422,\n",
            "        68424.3984, 14397.2490, 28120.8574,  7225.4062, 15647.0381,  9464.8906,\n",
            "        10221.0068, 20411.1602, 46077.6836, 13948.8564,  2801.2207,  4078.9189,\n",
            "         9591.3477, 52669.1211,  7380.3750,  9139.4502, 31029.0176,  9385.2080,\n",
            "         3753.4841,  6153.2832,  1415.3842, 48985.6328,  3140.7239, 10480.9756,\n",
            "        50096.0195, 10967.1768, 13371.8350,  2140.8396, 22072.6777, 11913.6289,\n",
            "        12888.7656,  6563.4512, 15888.9395,  9426.7100,  5567.6074,  4948.1025,\n",
            "        25244.1973,  2741.3965,  8233.9766, 12818.5898, 34389.9453,  2947.2065,\n",
            "        33221.1523, 10561.8682,  9769.6426, 16479.4336])\n"
          ]
        }
      ]
    },
    {
      "cell_type": "markdown",
      "source": [
        "\n",
        "# Create a linear regression model"
      ],
      "metadata": {
        "id": "IIy7DDmADWbw"
      }
    },
    {
      "cell_type": "code",
      "source": [
        "input_size = len(input_cols)\n",
        "output_size = len(output_cols)\n",
        "input_size, output_size"
      ],
      "metadata": {
        "colab": {
          "base_uri": "https://localhost:8080/"
        },
        "id": "GNoD2XA9DJVf",
        "outputId": "5a89267a-22be-468c-c0a1-15c1f0622432"
      },
      "execution_count": 50,
      "outputs": [
        {
          "output_type": "execute_result",
          "data": {
            "text/plain": [
              "(6, 7)"
            ]
          },
          "metadata": {},
          "execution_count": 50
        }
      ]
    },
    {
      "cell_type": "code",
      "source": [],
      "metadata": {
        "id": "8tWGc58TDeA_"
      },
      "execution_count": null,
      "outputs": []
    }
  ]
}